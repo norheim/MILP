{
 "cells": [
  {
   "cell_type": "code",
   "execution_count": 2,
   "metadata": {},
   "outputs": [],
   "source": [
    "using Polyhedra, CDDLib, JuMP, PyPlot"
   ]
  },
  {
   "cell_type": "code",
   "execution_count": 3,
   "metadata": {},
   "outputs": [],
   "source": [
    "m = [-1, 2, -2, 1, 1];\n",
    "c = [1, -2, 6, -3, -3];\n",
    "d = [0, 1, 2, 3, 4];\n",
    "k = 4;"
   ]
  },
  {
   "cell_type": "code",
   "execution_count": 4,
   "metadata": {},
   "outputs": [
    {
     "data": {
      "text/plain": [
       "gr (generic function with 1 method)"
      ]
     },
     "execution_count": 4,
     "metadata": {},
     "output_type": "execute_result"
    }
   ],
   "source": [
    "function piecewise(x, breakpts, f)\n",
    "    @assert(issorted(breakpts))\n",
    "    #@assert(length(breakpts) == length(f)+1)\n",
    "    b = searchsortedlast(breakpts, x)\n",
    "    return f[b](x)\n",
    "end\n",
    "fv = [f(x) = m[i]*x+c[i] for i in 1:k];\n",
    "gr(x) = piecewise(x, d[1:end-1], fv)"
   ]
  },
  {
   "cell_type": "code",
   "execution_count": 5,
   "metadata": {},
   "outputs": [
    {
     "data": {
      "image/png": "[encoded data removed]",
      "text/plain": [
       "PyPlot.Figure(PyObject <Figure size 640x480 with 1 Axes>)"
      ]
     },
     "metadata": {},
     "output_type": "display_data",
     "source": "julia"
    }
   ],
   "source": [
    "x = linspace(0,4,100); y = gr.(x);\n",
    "plot(x, y, color=\"red\", linewidth=2.0, linestyle=\"--\");"
   ]
  },
  {
   "cell_type": "markdown",
   "metadata": {},
   "source": [
    "# Helper functions"
   ]
  },
  {
   "cell_type": "code",
   "execution_count": 9,
   "metadata": {},
   "outputs": [
    {
     "data": {
      "text/plain": [
       "hrepr (generic function with 1 method)"
      ]
     },
     "execution_count": 9,
     "metadata": {},
     "output_type": "execute_result"
    }
   ],
   "source": [
    "function hrepr(model)\n",
    "    poly = polyhedron(model, CDDLibrary(:exact));\n",
    "    removehredundancy!(poly)\n",
    "    polyrep = SimpleHRepresentation(poly); \n",
    "    return polyrep\n",
    "end"
   ]
  },
  {
   "cell_type": "code",
   "execution_count": 10,
   "metadata": {},
   "outputs": [
    {
     "data": {
      "text/plain": [
       "vrepr (generic function with 1 method)"
      ]
     },
     "execution_count": 10,
     "metadata": {},
     "output_type": "execute_result"
    }
   ],
   "source": [
    "function vrepr(model)\n",
    "    poly = polyhedron(model, CDDLibrary(:exact));\n",
    "    removevredundancy!(poly)\n",
    "    ineq = SimpleVRepresentation(poly); \n",
    "    return ineq\n",
    "end"
   ]
  },
  {
   "cell_type": "code",
   "execution_count": 30,
   "metadata": {},
   "outputs": [
    {
     "data": {
      "text/plain": [
       "implied (generic function with 1 method)"
      ]
     },
     "execution_count": 30,
     "metadata": {},
     "output_type": "execute_result"
    }
   ],
   "source": [
    "function implied(polyrep, vars)\n",
    "    for eq in eqs(polyrep)\n",
    "        println(\"LHS = \", dot(convert.(Float64,eq.a), vars))\n",
    "        println(\"RHS = \", convert.(Float64,eq.β))\n",
    "    end\n",
    "end"
   ]
  },
  {
   "cell_type": "markdown",
   "metadata": {},
   "source": [
    "# Big M formulation"
   ]
  },
  {
   "cell_type": "code",
   "execution_count": 6,
   "metadata": {},
   "outputs": [
    {
     "data": {
      "text/plain": [
       "bigMform (generic function with 1 method)"
      ]
     },
     "execution_count": 6,
     "metadata": {},
     "output_type": "execute_result"
    }
   ],
   "source": [
    "function bigMform()\n",
    "    Ml = [maximum(m[i]*d+c[i]-gr.(d)) for i in 1:k];\n",
    "    Mu = [maximum(gr.(d)-(m[i]*d+c[i])) for i in 1:k];\n",
    "    model = Model(); \n",
    "    @variable(model, x); \n",
    "    @variable(model, z);\n",
    "    @variable(model, y[1:4], Bin);\n",
    "    @constraint(model, [i=1:k], d[i]-(d[i]-d[1])*(1-y[i]) <=x);\n",
    "    @constraint(model, [i=1:k], d[i+1]+(d[k+1]-d[i+1])*(1-y[i]) >= x);\n",
    "    @constraint(model, [i=1:k], m[i]*x+c[i]-Ml[i]*(1-y[i]) <= z);\n",
    "    @constraint(model, [i=1:k], m[i]*x+c[i]+Mu[i]*(1-y[i]) >= z);\n",
    "    @constraint(model, sum(y) == 1);\n",
    "    v = vcat(x,z,y)\n",
    "    return model, v\n",
    "end"
   ]
  },
  {
   "cell_type": "code",
   "execution_count": 34,
   "metadata": {},
   "outputs": [],
   "source": [
    "bMm, bMv = bigMform();"
   ]
  },
  {
   "cell_type": "markdown",
   "metadata": {},
   "source": [
    "## part a)"
   ]
  },
  {
   "cell_type": "code",
   "execution_count": 35,
   "metadata": {},
   "outputs": [
    {
     "data": {
      "text/plain": [
       "V-representation\n",
       "begin\n",
       " 52 7 rational\n",
       " 1 1//1 0//1 0//1 1//1 0//1 0//1\n",
       " 1 2//1 2//1 0//1 1//1 0//1 0//1\n",
       " 1 5//2 1//2 1//2 1//2 0//1 0//1\n",
       " 1 12//5 9//5 1//5 4//5 0//1 0//1\n",
       " 1 17//8 -7//8 5//8 3//8 0//1 0//1\n",
       " 1 2//1 -1//1 3//5 2//5 0//1 0//1\n",
       " 1 2//1 -1//1 0//1 2//5 0//1 3//5\n",
       " 1 5//2 -1//2 0//1 3//10 7//10 0//1\n",
       " 1 2//1 -1//1 0//1 2//5 2//5 1//5\n",
       " 1 2//1 -1//1 1//5 2//5 2//5 0//1\n",
       " 1 3//2 -1//2 0//1 7//10 3//10 0//1\n",
       " 1 3//1 0//1 0//1 0//1 0//1 1//1\n",
       " 1 2//1 -1//1 1//3 0//1 0//1 2//3\n",
       " 1 2//1 -1//1 0//1 1//3 0//1 2//3\n",
       " 1 2//1 -1//1 0//1 0//1 1//3 2//3\n",
       " 1 2//1 -1//1 0//1 0//1 2//5 3//5\n",
       " 1 2//1 -1//1 3//5 0//1 2//5 0//1\n",
       " 1 3//2 1//2 0//1 0//1 1//2 1//2\n",
       " 1 8//5 9//5 0//1 0//1 4//5 1//5\n",
       " 1 15//8 -7//8 0//1 0//1 3//8 5//8\n",
       " 1 1//1 3//2 0//1 1//2 1//2 0//1\n",
       " 1 6//5 11//5 0//1 2//5 3//5 0//1\n",
       " 1 8//9 13//9 0//1 4//9 4//9 1//9\n",
       " 1 9//13 10//13 0//1 7//13 3//13 3//13\n",
       " 1 9//10 7//10 0//1 7//10 0//1 3//10\n",
       " 1 15//23 8//23 0//1 15//23 3//23 5//23\n",
       " 1 3//4 1//4 0//1 3//4 0//1 1//4\n",
       " 1 5//6 1//6 0//1 5//6 1//6 0//1\n",
       " 1 2//1 -1//1 2//3 1//3 0//1 0//1\n",
       " 1 2//1 -1//1 2//3 0//1 1//3 0//1\n",
       " 1 2//1 -1//1 2//3 0//1 0//1 1//3\n",
       " 1 2//1 3//1 0//1 2//3 1//3 0//1\n",
       " 1 20//9 25//9 0//1 8//9 1//9 0//1\n",
       " 1 28//13 33//13 1//13 12//13 0//1 0//1\n",
       " 1 1//1 0//1 1//1 0//1 0//1 0//1\n",
       " 1 0//1 1//1 1//1 0//1 0//1 0//1\n",
       " 1 20//9 25//9 0//1 8//9 0//1 1//9\n",
       " 1 24//13 33//13 0//1 0//1 12//13 1//13\n",
       " 1 16//9 25//9 0//1 1//9 8//9 0//1\n",
       " 1 31//10 7//10 3//10 0//1 7//10 0//1\n",
       " 1 14//5 11//5 0//1 3//5 2//5 0//1\n",
       " 1 2//1 3//1 0//1 1//3 2//3 0//1\n",
       " 1 16//9 25//9 1//9 0//1 8//9 0//1\n",
       " 1 3//1 3//2 0//1 1//2 1//2 0//1\n",
       " 1 43//13 10//13 3//13 3//13 7//13 0//1\n",
       " 1 28//9 13//9 1//9 4//9 4//9 0//1\n",
       " 1 3//1 0//1 0//1 0//1 1//1 0//1\n",
       " 1 13//4 1//4 1//4 0//1 3//4 0//1\n",
       " 1 2//1 2//1 0//1 0//1 1//1 0//1\n",
       " 1 77//23 8//23 5//23 3//23 15//23 0//1\n",
       " 1 19//6 1//6 0//1 1//6 5//6 0//1\n",
       " 1 4//1 1//1 0//1 0//1 0//1 1//1\n",
       "end"
      ]
     },
     "execution_count": 35,
     "metadata": {},
     "output_type": "execute_result"
    }
   ],
   "source": [
    "vrepr(bMm)"
   ]
  },
  {
   "cell_type": "markdown",
   "metadata": {},
   "source": [
    "## part b)"
   ]
  },
  {
   "cell_type": "code",
   "execution_count": 48,
   "metadata": {},
   "outputs": [],
   "source": [
    "polyrepbM = hrepr(bMm)\n",
    "bMsimple = Model(); @variable(bMsimple, x); @variable(bMsimple, z);@variable(bMsimple, y[1:k], Bin);\n",
    "@constraint(bMsimple,convert.(Int64,polyrepbM.A)*vcat(x,z,y) .<= convert.(Int64,polyrepbM.b));"
   ]
  },
  {
   "cell_type": "code",
   "execution_count": 49,
   "metadata": {},
   "outputs": [
    {
     "data": {
      "text/latex": [
       "$$ \\begin{alignat*}{1}\\min\\quad & 0\\\\\n",
       "\\text{Subject to} \\quad & y_{1} + y_{2} + y_{3} + y_{4} \\leq 1\\\\\n",
       " & -y_{1} \\leq 0\\\\\n",
       " & -y_{2} \\leq 0\\\\\n",
       " & -y_{3} \\leq 0\\\\\n",
       " & -y_{4} \\leq 0\\\\\n",
       " & -x + 2 y_{3} \\leq 0\\\\\n",
       " & -x + 3 y_{4} \\leq 0\\\\\n",
       " & x + 3 y_{1} \\leq 4\\\\\n",
       " & x + 2 y_{2} \\leq 4\\\\\n",
       " & -x - z \\leq -1\\\\\n",
       " & 2 x - z + 5 y_{2} \\leq 7\\\\\n",
       " & -2 x - z + 5 y_{3} \\leq -1\\\\\n",
       " & x - z \\leq 3\\\\\n",
       " & x + z + 4 y_{1} \\leq 5\\\\\n",
       " & -2 x + z + 3 y_{2} \\leq 1\\\\\n",
       " & 2 x + z + 3 y_{3} \\leq 9\\\\\n",
       " & -x + z + 4 y_{4} \\leq 1\\\\\n",
       " & y_{i} \\in \\{0,1\\} \\quad\\forall i \\in \\{1,2,3,4\\}\\\\\n",
       " & x\\\\\n",
       " & z\\\\\n",
       "\\end{alignat*}\n",
       " $$"
      ],
      "text/plain": [
       "Feasibility problem with:\n",
       " * 17 linear constraints\n",
       " * 6 variables: 4 binary\n",
       "Solver is default solver"
      ]
     },
     "execution_count": 49,
     "metadata": {},
     "output_type": "execute_result"
    }
   ],
   "source": [
    "bMsimple"
   ]
  },
  {
   "cell_type": "code",
   "execution_count": 41,
   "metadata": {},
   "outputs": [
    {
     "name": "stdout",
     "output_type": "stream",
     "text": [
      "LHS = y[1] + y[2] + y[3] + y[4]\n",
      "RHS = 1.0\n"
     ]
    }
   ],
   "source": [
    "implied(polyrepbM, vcat(x,z,y))"
   ]
  },
  {
   "cell_type": "markdown",
   "metadata": {},
   "source": [
    "## CC formulation"
   ]
  },
  {
   "cell_type": "code",
   "execution_count": 42,
   "metadata": {},
   "outputs": [
    {
     "data": {
      "text/plain": [
       "CCform (generic function with 1 method)"
      ]
     },
     "execution_count": 42,
     "metadata": {},
     "output_type": "execute_result"
    }
   ],
   "source": [
    "function CCform()\n",
    "    model = Model(); \n",
    "    @variable(model, x); \n",
    "    @variable(model, z);\n",
    "    @variable(model, y[1:k], Bin);\n",
    "    @variable(model, λ[1:k+1]);\n",
    "    @constraint(model, dot(λ,d) == x);\n",
    "    @constraint(model, dot(λ,gr.(d))== z);\n",
    "    @constraint(model, sum(λ) == 1);\n",
    "    @constraint(model, λ[1] <= y[1]);\n",
    "    @constraint(model, [i=2:k], λ[i] <= y[i-1]+y[i]);\n",
    "    @constraint(model, λ[k+1] <= y[k]);\n",
    "    @constraint(model, sum(y) == 1);\n",
    "    @constraint(model, [i=1:k], λ[i] >= 0);\n",
    "    @constraint(model, [i=1:k], λ[i] <= 1);\n",
    "    v = vcat(x,z,y,λ)\n",
    "    return model, v\n",
    "end"
   ]
  },
  {
   "cell_type": "code",
   "execution_count": 44,
   "metadata": {},
   "outputs": [],
   "source": [
    "CCm, CCv = CCform();"
   ]
  },
  {
   "cell_type": "markdown",
   "metadata": {},
   "source": [
    "## part a)"
   ]
  },
  {
   "cell_type": "code",
   "execution_count": 45,
   "metadata": {},
   "outputs": [
    {
     "data": {
      "text/plain": [
       "V-representation\n",
       "begin\n",
       " 15 12 rational\n",
       " 1 2//1 2//1 0//1 1//1 0//1 0//1 0//1 0//1 1//1 0//1 0//1\n",
       " 1 7//2 1//2 0//1 1//2 0//1 1//2 0//1 0//1 0//1 1//2 1//2\n",
       " 1 7//2 1//2 1//2 0//1 0//1 1//2 0//1 0//1 0//1 1//2 1//2\n",
       " 1 5//2 1//1 1//2 0//1 1//2 0//1 0//1 0//1 1//2 1//2 0//1\n",
       " 1 0//1 1//1 1//1 0//1 0//1 0//1 1//1 0//1 0//1 0//1 0//1\n",
       " 1 1//2 1//2 1//2 0//1 1//2 0//1 1//2 1//2 0//1 0//1 0//1\n",
       " 1 -3//1 0//1 1//1 0//1 0//1 0//1 1//1 1//1 0//1 0//1 -1//1\n",
       " 1 -1//1 1//1 0//1 1//1 0//1 0//1 0//1 1//1 1//1 0//1 -1//1\n",
       " 1 1//1 0//1 1//1 0//1 0//1 0//1 0//1 1//1 0//1 0//1 0//1\n",
       " 1 1//1 0//1 0//1 1//1 0//1 0//1 0//1 1//1 0//1 0//1 0//1\n",
       " 1 1//1 1//1 0//1 0//1 1//1 0//1 0//1 0//1 1//1 1//1 -1//1\n",
       " 1 3//1 0//1 0//1 0//1 0//1 1//1 0//1 0//1 0//1 1//1 0//1\n",
       " 1 3//1 0//1 0//1 0//1 1//1 0//1 0//1 0//1 0//1 1//1 0//1\n",
       " 1 2//1 2//1 0//1 0//1 1//1 0//1 0//1 0//1 1//1 0//1 0//1\n",
       " 1 4//1 1//1 0//1 0//1 0//1 1//1 0//1 0//1 0//1 0//1 1//1\n",
       "end"
      ]
     },
     "execution_count": 45,
     "metadata": {},
     "output_type": "execute_result"
    }
   ],
   "source": [
    "vrepr(CCm)"
   ]
  },
  {
   "cell_type": "markdown",
   "metadata": {},
   "source": [
    "## part b)"
   ]
  },
  {
   "cell_type": "code",
   "execution_count": 53,
   "metadata": {},
   "outputs": [],
   "source": [
    "polyrepCC = hrepr(CCm)\n",
    "CCsimple = Model(); @variable(CCsimple, x); @variable(CCsimple, z);@variable(CCsimple, y[1:k], Bin); @variable(CCsimple, λ[1:k+1]);\n",
    "@constraint(CCsimple,convert.(Int64,polyrepCC.A)*vcat(x,z,y, λ) .<= convert.(Int64,polyrepCC.b));"
   ]
  },
  {
   "cell_type": "code",
   "execution_count": 54,
   "metadata": {},
   "outputs": [
    {
     "data": {
      "text/latex": [
       "$$ \\begin{alignat*}{1}\\min\\quad & 0\\\\\n",
       "\\text{Subject to} \\quad & -x + λ_{2} + 2 λ_{3} + 3 λ_{4} + 4 λ_{5} \\leq 0\\\\\n",
       " & -z + λ_{1} + 2 λ_{3} + λ_{5} \\leq 0\\\\\n",
       " & λ_{1} + λ_{2} + λ_{3} + λ_{4} + λ_{5} \\leq 1\\\\\n",
       " & y_{1} + y_{2} + y_{3} + y_{4} \\leq 1\\\\\n",
       " & -y_{2} \\leq 0\\\\\n",
       " & -y_{3} \\leq 0\\\\\n",
       " & -y_{4} \\leq 0\\\\\n",
       " & -y_{1} + λ_{1} \\leq 0\\\\\n",
       " & -y_{1} - y_{2} + λ_{2} \\leq 0\\\\\n",
       " & -y_{2} - y_{3} + λ_{3} \\leq 0\\\\\n",
       " & -y_{3} - y_{4} + λ_{4} \\leq 0\\\\\n",
       " & -y_{4} + λ_{5} \\leq 0\\\\\n",
       " & -λ_{1} \\leq 0\\\\\n",
       " & -λ_{2} \\leq 0\\\\\n",
       " & -λ_{3} \\leq 0\\\\\n",
       " & -λ_{4} \\leq 0\\\\\n",
       " & y_{i} \\in \\{0,1\\} \\quad\\forall i \\in \\{1,2,3,4\\}\\\\\n",
       " & λ_{i} \\quad\\forall i \\in \\{1,2,3,4,5\\}\\\\\n",
       " & x\\\\\n",
       " & z\\\\\n",
       "\\end{alignat*}\n",
       " $$"
      ],
      "text/plain": [
       "Feasibility problem with:\n",
       " * 16 linear constraints\n",
       " * 11 variables: 4 binary\n",
       "Solver is default solver"
      ]
     },
     "execution_count": 54,
     "metadata": {},
     "output_type": "execute_result"
    }
   ],
   "source": [
    "CCsimple"
   ]
  },
  {
   "cell_type": "code",
   "execution_count": 56,
   "metadata": {},
   "outputs": [
    {
     "name": "stdout",
     "output_type": "stream",
     "text": [
      "LHS = -x + λ[2] + 2 λ[3] + 3 λ[4] + 4 λ[5]\n",
      "RHS = 0.0\n",
      "LHS = -z + λ[1] + 2 λ[3] + λ[5]\n",
      "RHS = 0.0\n",
      "LHS = λ[1] + λ[2] + λ[3] + λ[4] + λ[5]\n",
      "RHS = 1.0\n",
      "LHS = y[1] + y[2] + y[3] + y[4]\n",
      "RHS = 1.0\n"
     ]
    }
   ],
   "source": [
    "implied(polyrepCC, vcat(x,z,y, λ))"
   ]
  },
  {
   "cell_type": "code",
   "execution_count": null,
   "metadata": {},
   "outputs": [],
   "source": []
  }
 ],
 "metadata": {
  "kernelspec": {
   "display_name": "Julia 0.6.2",
   "language": "julia",
   "name": "julia-0.6"
  },
  "language_info": {
   "file_extension": ".jl",
   "mimetype": "application/julia",
   "name": "julia",
   "version": "0.6.2"
  }
 },
 "nbformat": 4,
 "nbformat_minor": 2
}
